{
 "cells": [
  {
   "cell_type": "code",
   "execution_count": null,
   "id": "initial_id",
   "metadata": {
    "collapsed": true
   },
   "outputs": [],
   "source": "!wget -O model_repository/densenet_onnx/1/model.onnx https://github.com/onnx/models/raw/main/validated/vision/classification/densenet-121/model/densenet-7.onnx\n"
  },
  {
   "metadata": {},
   "cell_type": "code",
   "outputs": [],
   "execution_count": null,
   "source": "!docker run --rm -p8000:8000 -p8001:8001 -p8002:8002 -v ${PWD}/model_repository:/models nvcr.io/nvidia/tritonserver:23.04-py3 tritonserver --model-repository=/models",
   "id": "2c1d7449301288ef"
  },
  {
   "metadata": {
    "ExecuteTime": {
     "end_time": "2025-02-21T08:02:25.287132Z",
     "start_time": "2025-02-21T08:02:23.756871Z"
    }
   },
   "cell_type": "code",
   "source": [
    "import numpy as np\n",
    "import tritonclient.http as httpclient\n",
    "from PIL import Image\n",
    "from torchvision import transforms\n",
    "from tritonclient.utils import triton_to_np_dtype"
   ],
   "id": "feda8dd4b06a0ca5",
   "outputs": [],
   "execution_count": 1
  },
  {
   "metadata": {
    "ExecuteTime": {
     "end_time": "2025-02-21T08:02:26.525444Z",
     "start_time": "2025-02-21T08:02:26.520330Z"
    }
   },
   "cell_type": "code",
   "source": [
    "def rn50_preprocess(img_path=\"img1.jpg\"):\n",
    "    img = Image.open(img_path)\n",
    "    preprocess = transforms.Compose(\n",
    "        [\n",
    "            transforms.Resize(256),\n",
    "            transforms.CenterCrop(224),\n",
    "            transforms.ToTensor(),\n",
    "            transforms.Normalize(mean=[0.485, 0.456, 0.406], std=[0.229, 0.224, 0.225]),\n",
    "        ]\n",
    "    )\n",
    "    return preprocess(img).numpy()"
   ],
   "id": "3ca731c734da6c9e",
   "outputs": [],
   "execution_count": 2
  },
  {
   "metadata": {
    "ExecuteTime": {
     "end_time": "2025-02-21T08:02:27.731552Z",
     "start_time": "2025-02-21T08:02:27.659696Z"
    }
   },
   "cell_type": "code",
   "source": [
    "transformed_img = rn50_preprocess()\n",
    "\n",
    "# Setting up client\n",
    "client = httpclient.InferenceServerClient(url=\"localhost:8000\")\n",
    "\n",
    "inputs = httpclient.InferInput(\"data_0\", transformed_img.shape, datatype=\"FP32\")\n",
    "inputs.set_data_from_numpy(transformed_img, binary_data=True)\n",
    "\n",
    "outputs = httpclient.InferRequestedOutput(\"fc6_1\", binary_data=True, class_count=1000)\n",
    "\n",
    "# Querying the server\n",
    "results = client.infer(model_name=\"densenet_onnx\", inputs=[inputs], outputs=[outputs])\n",
    "inference_output = results.as_numpy(\"fc6_1\").astype(str)\n",
    "\n",
    "print(np.squeeze(inference_output)[:5])"
   ],
   "id": "8fa5bac9be6e93bd",
   "outputs": [
    {
     "name": "stdout",
     "output_type": "stream",
     "text": [
      "['11.548583:92:BEE EATER' '11.231403:14:INDIGO FINCH'\n",
      " '7.527273:95:JACAMAR' '6.922707:17:JAY' '6.576274:88:MACAW']\n"
     ]
    }
   ],
   "execution_count": 3
  }
 ],
 "metadata": {
  "kernelspec": {
   "display_name": "Python 3",
   "language": "python",
   "name": "python3"
  },
  "language_info": {
   "codemirror_mode": {
    "name": "ipython",
    "version": 2
   },
   "file_extension": ".py",
   "mimetype": "text/x-python",
   "name": "python",
   "nbconvert_exporter": "python",
   "pygments_lexer": "ipython2",
   "version": "2.7.6"
  }
 },
 "nbformat": 4,
 "nbformat_minor": 5
}
